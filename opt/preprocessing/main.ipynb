{
 "cells": [
  {
   "cell_type": "code",
   "execution_count": 1,
   "metadata": {},
   "outputs": [],
   "source": [
    "import pandas as pd\n",
    "import numpy as np\n",
    "\n",
    "from matplotlib import pyplot as plt\n",
    "from frequency_filters import high_pass\n",
    "from feature_engineering import extractFeatures, get_feature_names\n",
    "from interpolate import interpolate_cubic\n"
   ]
  },
  {
   "attachments": {},
   "cell_type": "markdown",
   "metadata": {},
   "source": [
    "# manca permutation test"
   ]
  },
  {
   "cell_type": "code",
   "execution_count": null,
   "metadata": {},
   "outputs": [],
   "source": []
  },
  {
   "cell_type": "code",
   "execution_count": null,
   "metadata": {},
   "outputs": [],
   "source": [
    "from scipy.interpolate import interp1d, CubicSpline\n",
    "\n",
    "def sampleSameLenght(X,lenght):\n",
    "  groups = X.groupby([X.n_groups, X.ball, X.intention, X.launcher, X.receiver, X.n_launch])\n",
    "  if lenght == None:\n",
    "    lenght = int(groups.size().mean())#.mode().min())\n",
    "  ret = []\n",
    "  r, c = lenght, X.shape[1]\n",
    "  for name, g in groups:\n",
    "    #comodo = g.loc[np.random.randint(low=g.index[0], high=g.index[-1], size=lenght),:]#.sort_index().reset_index(drop=True)\n",
    "    comodo = np.zeros((r,c))\n",
    "    comodo[:r,:6] = np.tile(g.iloc[0,:6].values, (r,1))\n",
    "\n",
    "    x = g.index\n",
    "    x_new = np.linspace(np.min(x),np.max(x), lenght)\n",
    "    \n",
    "    for i in range(6,c):\n",
    "      y = g.iloc[:,i]\n",
    "      f = CubicSpline(x,y)\n",
    "      \n",
    "      y_new = f(x_new)\n",
    "      comodo[:,i] = y_new\n",
    "\n",
    "    ret.append(comodo)\n",
    "\n",
    "  ret = pd.DataFrame(np.vstack(ret), columns=X.columns)\n",
    "  ret.sort_index(inplace=True)\n",
    "  ret.reset_index(drop=True, inplace=True)\n",
    "  return ret, lenght"
   ]
  },
  {
   "cell_type": "code",
   "execution_count": null,
   "metadata": {},
   "outputs": [],
   "source": [
    "X = pd.read_csv('dist_baricenters.csv', sep=';', decimal='.',header=0)"
   ]
  },
  {
   "cell_type": "code",
   "execution_count": null,
   "metadata": {},
   "outputs": [],
   "source": [
    "%%time\n",
    "hp = X_norm.groupby(groups).transform(high_pass)"
   ]
  },
  {
   "cell_type": "code",
   "execution_count": null,
   "metadata": {},
   "outputs": [],
   "source": [
    "%%time\n",
    "feat = hp.groupby(groups).apply(lambda x : extractFeatures(x.iloc[:, 6:]))\n",
    "feat = feat.apply(pd.Series).reset_index()\n",
    "feat"
   ]
  },
  {
   "cell_type": "code",
   "execution_count": null,
   "metadata": {},
   "outputs": [],
   "source": [
    "feat_names = get_feature_names(hp, len(metadata))"
   ]
  }
 ],
 "metadata": {
  "kernelspec": {
   "display_name": "vincenzo_env",
   "language": "python",
   "name": "python3"
  },
  "language_info": {
   "codemirror_mode": {
    "name": "ipython",
    "version": 3
   },
   "file_extension": ".py",
   "mimetype": "text/x-python",
   "name": "python",
   "nbconvert_exporter": "python",
   "pygments_lexer": "ipython3",
   "version": "3.9.7"
  },
  "orig_nbformat": 4
 },
 "nbformat": 4,
 "nbformat_minor": 2
}
